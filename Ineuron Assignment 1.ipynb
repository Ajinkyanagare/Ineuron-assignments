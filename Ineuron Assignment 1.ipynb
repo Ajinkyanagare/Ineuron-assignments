{
 "cells": [
  {
   "cell_type": "markdown",
   "id": "0cf7be78",
   "metadata": {},
   "source": [
    "# Assignment 1"
   ]
  },
  {
   "cell_type": "code",
   "execution_count": 1,
   "id": "dd75cfca",
   "metadata": {},
   "outputs": [],
   "source": [
    "# Q1 \n",
    "#In the question the values are \"Hello\",-87.8, 6 and expressions are *, -,/,+\n"
   ]
  },
  {
   "cell_type": "code",
   "execution_count": 2,
   "id": "a7f59888",
   "metadata": {},
   "outputs": [],
   "source": [
    "# Q2 \n",
    "'''A string is a sequence of characters , whereas variable are the referance or pointer to a object \n",
    "so that whenever we want to call the object we can call variable name'''"
   ]
  },
  {
   "cell_type": "code",
   "execution_count": 4,
   "id": "e8af08b9",
   "metadata": {},
   "outputs": [],
   "source": [
    "# Q3\n",
    "#\"There is integer, float , boolean,string\""
   ]
  },
  {
   "cell_type": "code",
   "execution_count": 5,
   "id": "1a4f5b06",
   "metadata": {},
   "outputs": [],
   "source": [
    "# Q4\n",
    "# An expression is made up of operators and operands"
   ]
  },
  {
   "cell_type": "code",
   "execution_count": 7,
   "id": "5c0e292a",
   "metadata": {},
   "outputs": [
    {
     "data": {
      "text/plain": [
       "' A statement in Python is used for creating variables or for displaying values.\\nThe expression in Python produces some value or result after being interpreted by the Python interpreter'"
      ]
     },
     "execution_count": 7,
     "metadata": {},
     "output_type": "execute_result"
    }
   ],
   "source": [
    "#Q5\n",
    "''' A statement in Python is used for creating variables or for displaying values.\n",
    "The expression in Python produces some value or result after being interpreted by the Python interpreter'''"
   ]
  },
  {
   "cell_type": "code",
   "execution_count": 8,
   "id": "de724883",
   "metadata": {},
   "outputs": [
    {
     "name": "stdout",
     "output_type": "stream",
     "text": [
      "23\n"
     ]
    }
   ],
   "source": [
    "#Q6\n",
    "bacon = 22\n",
    "print(bacon + 1)\n",
    "# here the bacon is 22"
   ]
  },
  {
   "cell_type": "code",
   "execution_count": 11,
   "id": "34643347",
   "metadata": {},
   "outputs": [
    {
     "name": "stdout",
     "output_type": "stream",
     "text": [
      "spamspamspam\n",
      "spamspamspam\n"
     ]
    }
   ],
   "source": [
    "# Q7\n",
    "print('spam'+'spamspam')\n",
    "print('spam'*3)"
   ]
  },
  {
   "cell_type": "code",
   "execution_count": 12,
   "id": "e6eca697",
   "metadata": {},
   "outputs": [],
   "source": [
    "# Q8\n",
    "# A variable name can contain a alphabet or a underscore an integer can't be used to assign a value"
   ]
  },
  {
   "cell_type": "code",
   "execution_count": 13,
   "id": "35bcb826",
   "metadata": {},
   "outputs": [],
   "source": [
    "# Q9\n",
    "# The three functions are int(), str(), float()"
   ]
  },
  {
   "cell_type": "code",
   "execution_count": 17,
   "id": "f247e0e8",
   "metadata": {},
   "outputs": [
    {
     "data": {
      "text/plain": [
       "'I have eaten 99 burritos'"
      ]
     },
     "execution_count": 17,
     "metadata": {},
     "output_type": "execute_result"
    }
   ],
   "source": [
    "# Q10\n",
    "# We are getting error as we are concating string and integer so we should convert int to str with \" \"\n",
    "'I have eaten'+' 99 '+'burritos'"
   ]
  },
  {
   "cell_type": "code",
   "execution_count": null,
   "id": "cb2f60b9",
   "metadata": {},
   "outputs": [],
   "source": []
  }
 ],
 "metadata": {
  "kernelspec": {
   "display_name": "Python 3 (ipykernel)",
   "language": "python",
   "name": "python3"
  },
  "language_info": {
   "codemirror_mode": {
    "name": "ipython",
    "version": 3
   },
   "file_extension": ".py",
   "mimetype": "text/x-python",
   "name": "python",
   "nbconvert_exporter": "python",
   "pygments_lexer": "ipython3",
   "version": "3.9.12"
  }
 },
 "nbformat": 4,
 "nbformat_minor": 5
}
